{
 "cells": [
  {
   "cell_type": "code",
   "execution_count": 3,
   "metadata": {},
   "outputs": [
    {
     "ename": "SyntaxError",
     "evalue": "invalid decimal literal (566664007.py, line 2)",
     "output_type": "error",
     "traceback": [
   define ROOT "C:/laragon/www/myapp"
define SITE "myapp.test"

<VirtualHost *:80>
    ServerName ${SITE}
    ServerAlias *.${SITE}

    ProxyRequests Off
    ProxyPreserveHost On
    ProxyVia Full

    <Proxy *>
        Require all granted
    </Proxy>

    ProxyPass / http://127.0.0.1:3333/
    ProxyPassReverse / http://127.0.0.1:3333/

    ErrorLog ${APACHE_LOG_DIR}/error.log
    CustomLog ${APACHE_LOG_DIR}/access.log combined
</VirtualHost>

<VirtualHost *:443>
    ServerName ${SITE}
    ServerAlias *.${SITE}

    ProxyRequests Off
    ProxyPreserveHost On
    ProxyVia Full

    <Proxy *>
        Require all granted
    </Proxy>

    ProxyPass / http://127.0.0.1:3333/
    ProxyPassReverse / http://127.0.0.1:3333/

    SSLEngine on
    SSLCertificateFile      C:/laragon/etc/ssl/laragon.crt
    SSLCertificateKeyFile   C:/laragon/etc/ssl/laragon.key
</VirtualHost>

  {
   "cell_type": "code",
   "execution_count": null,
   "metadata": {},
   "outputs": [],
   "source": [
    "/launchpad init > r10k.yamlr\\r dbpass"
   ]
  },
  {
   "cell_type": "code",
   "execution_count": null,
   "metadata": {},
   "outputs": [],
   "source": [
    "./node_modules/real-service-providers/es/test-delay/index.js"
   ]
  },
  {
   "cell_type": "markdown",
   "metadata": {},
   "source": [
    "apiVersion: launchpad.mirantis.com/mke/v1.3\n",
    "kind: mke\n",
    "metadata:\n",
    " name: my-mke-cluster\n",
    "spec:\n",
    " hosts:\n",
    " - ssh:\n",
    " address: 172.31.21.69\n",
    " user: ubuntu\n",
    " port: 22\n",
    " keyPath: ~/.ssh/id_rsa\n",
    " role: manager\n",
    " - ssh:\n",
    " address: 172.31.18.12\n",
    " user: ubuntu\n",
    " port: 22\n",
    " keyPath: ~/.ssh/id_rsa\n",
    " role: worker\n",
    " mke:\n",
    " version: 3.3.7\n",
    " installFlags:\n",
    " - --admin-username=admin\n",
    " - --admin-password=sekretstuff\n",
    " mcr:\n",
    " version: 19.03.14\n",
    " cluster:\n",
    " prune: false"
   ]
  },
  {
   "attachments": {},
   "cell_type": "markdown",
   "metadata": {},
   "source": [
    "strace"
   ]
  },
  {
   "cell_type": "markdown",
   "metadata": {},
   "source": [
    "apiVersion: launchpad.mirantis.com/mke/v1.3\n",
    "kind: mke\n",
    "metadata:\n",
    " name: my-mke-cluster\n",
    "spec:\n",
    " hosts:\n",
    " - ssh:\n",
    " address: 192.168.1.30\n",
    " user: my_username\n",
    " port: 22\n",
    " keyPath: ~/.ssh/id_rsa\n",
    " role: manager\n",
    " - ssh:\n",
    " address: 192.168.1.31\n",
    " user: my_username\n",
    " port: 22\n",
    " keyPath: ~/.ssh/id_rsa\n",
    " role: worker\n",
    " mke:\n",
    " version: 3.3.7\n",
    " installFlags:\n",
    " - --pod-cidr=\"10.0.0.0/16\"\n",
    " - --admin-username=admin\n",
    " - --admin-password=sekretstuff\n",
    " mcr:\n",
    " version: 19.03.14\n",
    " cluster:\n",
    " prune: false"
   ]
  },
  {
   "cell_type": "markdown",
   "metadata": {},
   "source": [
    "contracts: {\n",
    "    core_wallet: {\n",
    "        contracts_directory: [\"contracts/infrastructure,\"contracts/modules\",\"contracts/wallet\"],\n",
    "        contracts_build_directory:\"build\",\n",
    "        compiler: {\n",
    "            solc: {\n",
    "                version: \"0.6.12\",\n",
    "                docker: true,\n",
    "                settings:{\n",
    "                    optimizer:{\n",
    "                        enabled:true,\n",
    "                        runs: 999\n",
    "                    {\n",
    "                {\n",
    "            {\n",
    "        {\n",
    "    {,\n",
    "    contracts_infrasturcture_0_5: {\n",
    "        contracts_directory:[\"contracts/infrastucture_0.5\"]'\n",
    "        contracts_build_directory: \"build\",\n",
    "        compiler: {\n",
    "            solc:{\n",
    "                version: \"0.5.4\"'\n",
    "                docker: true'\n",
    "                settings:{\n",
    "                    optimizer:{\n",
    "                        enabled:true,\n",
    "                        runs:999\n",
    "                    {\n",
    "                {\n",
    "            {\n",
    "        {\n",
    "    {,\n",
    "    contracts_lib:{\n",
    "        contracts_directory: [\"lib\"],\n",
    "        contracts_build_directrory: \"build\",\n",
    "        compiler: {\n",
    "            solc: {\n",
    "                version: \"0.5.4\",\n",
    "                docker: true,\n",
    "                settings: {\n",
    "                    optimizer: {\n",
    "                        enabled:true,\n",
    "                        runs: 200\n",
    "                        {\n",
    "                    {\n",
    "                {\n",
    "            {\n",
    "    {,\n",
    "    contracts_legacy_legacy_1_3: {\n",
    "        contracts_directory: [\"contracts_legacy/v1.3.0\"],\n",
    "        contracts_build_directory: \"build-legacy/v1.3.0\"\n",
    "        compiler: {\n",
    "            solc: {\n",
    "                version: \"0.5.4\",\n",
    "                docker: true,\n",
    "                settings:{\n",
    "                    optimizer:{\n",
    "                        enabled:true,\n",
    "                        runs:999\n",
    "                    {\n",
    "                {\n",
    "            {\n",
    "        {\n",
    "    {,\n",
    "    contracts_legacy_1_6: {\n",
    "        contracts_directory:[\"contracts-legacy/v1.6.0\"],\n",
    "        contracts_build_directory: \"build-legacy/v1.6.0\"\n",
    "        compiler: {\n",
    "            solc: {\n",
    "                version: \".0.5.4\",\n",
    "                docker: true,\n",
    "                settings:{\n",
    "                    optimizer: {\n",
    "                        enabled:true,\n",
    "                        runs: 999\n",
    "                    {\n",
    "                {\n",
    "            {\n",
    "        {\n",
    "    {,\n",
    "    contracts_test:{\n",
    "        contracts_directory: [\"contracts-test\"],\n",
    "        contracts_build_directory: \"build\",\n",
    "        compiler: {\n",
    "            solc: {\n",
    "                version: \"0.6.12\",\n",
    "                docker: true,\n",
    "                runs: 200\n",
    "            {\n",
    "        {\n",
    "    {\n",
    "{,\n",
    "\n",
    "networks: {\n",
    "    development: {\n",
    "        ...\n",
    "    },\n",
    "\n",
    "\n",
    "\n",
    "\n",
    "\n",
    "\n"
   ]
  },
  {
   "attachments": {},
   "cell_type": "markdown",
   "metadata": {},
   "source": [
    "contracts:\n",
    "  {\n",
    "        contracts_set:  {\n",
    "                'contracts_set_id',\n",
    "                'contracts_directory',\n",
    "                'contracts_build_directory',\n",
    "                ' compiler'\n",
    "        },\n",
    "        ....\n",
    "    },\n",
    "networks:\n",
    "  { \n",
    "      development: {\n",
    "            ...\n",
    "      },\n",
    "      Gorli: {\n",
    "              ....\n",
    "      },\n",
    "      ....\n",
    "  }"
   ]
  },
  {
   "cell_type": "code",
   "execution_count": 2,
   "metadata": {},
   "outputs": [
    {
     "ename": "SyntaxError",
     "evalue": "unterminated string literal (detected at line 2) (1487428569.py, line 2)",
     "output_type": "error",
     "traceback": [
      "\u001b[1;36m  Cell \u001b[1;32mIn[2], line 2\u001b[1;36m\u001b[0m\n\u001b[1;33m    _ \"version\": \"2.9.72\"-fix-calldata-gascost.0\"\u001b[0m\n\u001b[1;37m                                                ^\u001b[0m\n\u001b[1;31mSyntaxError\u001b[0m\u001b[1;31m:\u001b[0m unterminated string literal (detected at line 2)\n"
     ]
    }
   ],
   "source": [
    "\"name\": \"@paraswap/dex-lib\",\n",
    "_ \"version\": \"2.9.72\"-\"fix-calldata-gascost.0\"\n",
    "-version: \"2.9.72\",\"AustinN\"\n",
    "\"main\": \"build/index.js\"\n",
    "\"types\": \"build/index.d.ts\"\n",
    "\"repository\": \"https://github.com\"\n",
    "/paraswap/paraswap-dex-lib\"\""
   ]
  }
 ],
 "metadata": {
  "kernelspec": {
   "display_name": "Python 3.10.4 64-bit",
   "language": "python",
   "name": "python3"
  },
  "language_info": {
   "codemirror_mode": {
    "name": "ipython",
    "version": 3
   },
   "file_extension": ".py",
   "mimetype": "text/x-python",
   "name": "python",
   "nbconvert_exporter": "python",
   "pygments_lexer": "ipython3",
   "version": "3.10.4"
  },
  "orig_nbformat": 4,
  "vscode": {
   "interpreter": {
    "hash": "369f2c481f4da34e4445cda3fffd2e751bd1c4d706f27375911949ba6bb62e1c"
   }
  }
 },
 "nbformat": 4,
 "nbformat_minor": 2
}

